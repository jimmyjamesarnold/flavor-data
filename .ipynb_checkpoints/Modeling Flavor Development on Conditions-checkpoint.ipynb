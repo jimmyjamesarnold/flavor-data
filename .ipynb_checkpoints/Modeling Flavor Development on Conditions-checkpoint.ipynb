{
 "cells": [
  {
   "cell_type": "markdown",
   "metadata": {},
   "source": [
    "# Modeling Flavor Development on Conditions\n",
    "Notebook by Jim Arnold"
   ]
  },
  {
   "cell_type": "markdown",
   "metadata": {},
   "source": [
    "## Introduction\n",
    "This notebook is to explore which experimental conditions produce optimal flavor compound development in Basil. Data from OpenAg."
   ]
  },
  {
   "cell_type": "markdown",
   "metadata": {},
   "source": [
    "## Prepare Data"
   ]
  },
  {
   "cell_type": "code",
   "execution_count": 3,
   "metadata": {},
   "outputs": [],
   "source": [
    "# Standard DS stack\n",
    "import numpy as np\n",
    "import pandas as pd\n",
    "import seaborn as sns\n",
    "import matplotlib.pyplot as plt\n",
    "# set plot defaults\n",
    "sns.set(context='poster', style='white')"
   ]
  },
  {
   "cell_type": "code",
   "execution_count": 5,
   "metadata": {},
   "outputs": [],
   "source": [
    "# Import dataset(s) here\n",
    "pca_df = pd.read_csv('Compound PCs.csv')\n",
    "samples = pd.read_csv('MasterList.csv')\n",
    "\n",
    "# Merge\n",
    "df = pd.merge(pca_df, samples, how='left', on='Sample')"
   ]
  },
  {
   "cell_type": "code",
   "execution_count": 6,
   "metadata": {},
   "outputs": [
    {
     "data": {
      "text/html": [
       "<div>\n",
       "<style scoped>\n",
       "    .dataframe tbody tr th:only-of-type {\n",
       "        vertical-align: middle;\n",
       "    }\n",
       "\n",
       "    .dataframe tbody tr th {\n",
       "        vertical-align: top;\n",
       "    }\n",
       "\n",
       "    .dataframe thead th {\n",
       "        text-align: right;\n",
       "    }\n",
       "</style>\n",
       "<table border=\"1\" class=\"dataframe\">\n",
       "  <thead>\n",
       "    <tr style=\"text-align: right;\">\n",
       "      <th></th>\n",
       "      <th>Unnamed: 0</th>\n",
       "      <th>Sample</th>\n",
       "      <th>PC1</th>\n",
       "      <th>PC2</th>\n",
       "      <th>PC3</th>\n",
       "      <th>Experiment ID</th>\n",
       "      <th>Profile ID</th>\n",
       "      <th>Condition</th>\n",
       "      <th>Data Type</th>\n",
       "      <th>Sample Weight (g)</th>\n",
       "      <th>Dry Matter fraction</th>\n",
       "      <th>Main effect 1</th>\n",
       "      <th>Level 1</th>\n",
       "      <th>Main Effect 2</th>\n",
       "      <th>Level 2</th>\n",
       "      <th>replicate</th>\n",
       "    </tr>\n",
       "  </thead>\n",
       "  <tbody>\n",
       "    <tr>\n",
       "      <th>0</th>\n",
       "      <td>0</td>\n",
       "      <td>PS3</td>\n",
       "      <td>-5.530548</td>\n",
       "      <td>-0.881035</td>\n",
       "      <td>0.591086</td>\n",
       "      <td>20160501OB-UV-2</td>\n",
       "      <td>20160501OB-UV-2-PS3</td>\n",
       "      <td>PS</td>\n",
       "      <td>Volatiles</td>\n",
       "      <td>0.91</td>\n",
       "      <td>0.124095</td>\n",
       "      <td>Light Type</td>\n",
       "      <td>Phillips</td>\n",
       "      <td>UV photoperiod</td>\n",
       "      <td>short</td>\n",
       "      <td>3</td>\n",
       "    </tr>\n",
       "    <tr>\n",
       "      <th>1</th>\n",
       "      <td>1</td>\n",
       "      <td>PS2</td>\n",
       "      <td>-3.682842</td>\n",
       "      <td>-1.355886</td>\n",
       "      <td>1.224465</td>\n",
       "      <td>20160501OB-UV-2</td>\n",
       "      <td>20160501OB-UV-2-PS2</td>\n",
       "      <td>PS</td>\n",
       "      <td>Volatiles</td>\n",
       "      <td>1.06</td>\n",
       "      <td>0.124095</td>\n",
       "      <td>Light Type</td>\n",
       "      <td>Phillips</td>\n",
       "      <td>UV photoperiod</td>\n",
       "      <td>short</td>\n",
       "      <td>2</td>\n",
       "    </tr>\n",
       "    <tr>\n",
       "      <th>2</th>\n",
       "      <td>2</td>\n",
       "      <td>PS1</td>\n",
       "      <td>-1.464430</td>\n",
       "      <td>-1.966432</td>\n",
       "      <td>2.927522</td>\n",
       "      <td>20160501OB-UV-2</td>\n",
       "      <td>20160501OB-UV-2-PS1</td>\n",
       "      <td>PS</td>\n",
       "      <td>Volatiles</td>\n",
       "      <td>0.91</td>\n",
       "      <td>0.124095</td>\n",
       "      <td>Light Type</td>\n",
       "      <td>Phillips</td>\n",
       "      <td>UV photoperiod</td>\n",
       "      <td>short</td>\n",
       "      <td>1</td>\n",
       "    </tr>\n",
       "    <tr>\n",
       "      <th>3</th>\n",
       "      <td>3</td>\n",
       "      <td>PL2</td>\n",
       "      <td>0.567219</td>\n",
       "      <td>-1.256429</td>\n",
       "      <td>-1.722346</td>\n",
       "      <td>20160501OB-UV-2</td>\n",
       "      <td>20160501OB-UV-2-PL2</td>\n",
       "      <td>PL</td>\n",
       "      <td>Volatiles</td>\n",
       "      <td>1.28</td>\n",
       "      <td>0.095847</td>\n",
       "      <td>Light Type</td>\n",
       "      <td>Phillips</td>\n",
       "      <td>UV photoperiod</td>\n",
       "      <td>long</td>\n",
       "      <td>2</td>\n",
       "    </tr>\n",
       "    <tr>\n",
       "      <th>4</th>\n",
       "      <td>4</td>\n",
       "      <td>PL3</td>\n",
       "      <td>1.452608</td>\n",
       "      <td>-0.624286</td>\n",
       "      <td>-2.447351</td>\n",
       "      <td>20160501OB-UV-2</td>\n",
       "      <td>20160501OB-UV-2-PL3</td>\n",
       "      <td>PL</td>\n",
       "      <td>Volatiles</td>\n",
       "      <td>1.07</td>\n",
       "      <td>0.095847</td>\n",
       "      <td>Light Type</td>\n",
       "      <td>Phillips</td>\n",
       "      <td>UV photoperiod</td>\n",
       "      <td>long</td>\n",
       "      <td>3</td>\n",
       "    </tr>\n",
       "  </tbody>\n",
       "</table>\n",
       "</div>"
      ],
      "text/plain": [
       "   Unnamed: 0 Sample       PC1       PC2       PC3    Experiment ID  \\\n",
       "0           0    PS3 -5.530548 -0.881035  0.591086  20160501OB-UV-2   \n",
       "1           1    PS2 -3.682842 -1.355886  1.224465  20160501OB-UV-2   \n",
       "2           2    PS1 -1.464430 -1.966432  2.927522  20160501OB-UV-2   \n",
       "3           3    PL2  0.567219 -1.256429 -1.722346  20160501OB-UV-2   \n",
       "4           4    PL3  1.452608 -0.624286 -2.447351  20160501OB-UV-2   \n",
       "\n",
       "            Profile ID Condition  Data Type  Sample Weight (g)  \\\n",
       "0  20160501OB-UV-2-PS3        PS  Volatiles               0.91   \n",
       "1  20160501OB-UV-2-PS2        PS  Volatiles               1.06   \n",
       "2  20160501OB-UV-2-PS1        PS  Volatiles               0.91   \n",
       "3  20160501OB-UV-2-PL2        PL  Volatiles               1.28   \n",
       "4  20160501OB-UV-2-PL3        PL  Volatiles               1.07   \n",
       "\n",
       "   Dry Matter fraction Main effect 1   Level 1   Main Effect 2 Level 2  \\\n",
       "0             0.124095    Light Type  Phillips  UV photoperiod   short   \n",
       "1             0.124095    Light Type  Phillips  UV photoperiod   short   \n",
       "2             0.124095    Light Type  Phillips  UV photoperiod   short   \n",
       "3             0.095847    Light Type  Phillips  UV photoperiod    long   \n",
       "4             0.095847    Light Type  Phillips  UV photoperiod    long   \n",
       "\n",
       "   replicate  \n",
       "0          3  \n",
       "1          2  \n",
       "2          1  \n",
       "3          2  \n",
       "4          3  "
      ]
     },
     "execution_count": 6,
     "metadata": {},
     "output_type": "execute_result"
    }
   ],
   "source": [
    "df.head()"
   ]
  },
  {
   "cell_type": "markdown",
   "metadata": {},
   "source": [
    "## A little more EDA\n",
    "\n",
    "First, I want to look at how the PCs are distributed with respect to features"
   ]
  },
  {
   "cell_type": "code",
   "execution_count": 47,
   "metadata": {},
   "outputs": [
    {
     "data": {
      "text/plain": [
       "<matplotlib.axes._subplots.AxesSubplot at 0x7f45de6d8e10>"
      ]
     },
     "execution_count": 47,
     "metadata": {},
     "output_type": "execute_result"
    },
    {
     "data": {
      "image/png": "[encoded data removed]",
      "text/plain": [
       "<Figure size 432x288 with 1 Axes>"
      ]
     },
     "metadata": {},
     "output_type": "display_data"
    }
   ],
   "source": [
    "# Check Level 1 - type of bulb \n",
    "sns.swarmplot('PC1', 'Level 1', data=df)"
   ]
  },
  {
   "cell_type": "code",
   "execution_count": 48,
   "metadata": {},
   "outputs": [
    {
     "data": {
      "text/plain": [
       "<matplotlib.axes._subplots.AxesSubplot at 0x7f45de6a03c8>"
      ]
     },
     "execution_count": 48,
     "metadata": {},
     "output_type": "execute_result"
    },
    {
     "data": {
      "image/png": "[encoded data removed]",
      "text/plain": [
       "<Figure size 432x288 with 1 Axes>"
      ]
     },
     "metadata": {},
     "output_type": "display_data"
    }
   ],
   "source": [
    "# Check Level 2  - UV photoperiod\n",
    "sns.swarmplot('PC1', 'Level 2', data=df)"
   ]
  },
  {
   "cell_type": "markdown",
   "metadata": {},
   "source": [
    "With the exception of 1 outlier in the control, the Level 2 tells a pretty clear story. I don't think there's actually enough data to do more work with, and I'm going to leave it at that."
   ]
  },
  {
   "cell_type": "code",
   "execution_count": 50,
   "metadata": {},
   "outputs": [
    {
     "data": {
      "text/plain": [
       "<matplotlib.legend.Legend at 0x7f45de5cb908>"
      ]
     },
     "execution_count": 50,
     "metadata": {},
     "output_type": "execute_result"
    },
    {
     "data": {
      "image/png": "[encoded data removed]",
      "text/plain": [
       "<Figure size 432x288 with 1 Axes>"
      ]
     },
     "metadata": {},
     "output_type": "display_data"
    }
   ],
   "source": [
    "# Check Level 2  - UV photoperiod, colored by bulb type\n",
    "sns.swarmplot('PC1', 'Level 2', hue = 'Level 1', data=df)\n",
    "plt.legend(bbox_to_anchor=(1.05, 1), loc=2, borderaxespad=0.)"
   ]
  },
  {
   "cell_type": "markdown",
   "metadata": {},
   "source": [
    "## Analysis/Modeling"
   ]
  },
  {
   "cell_type": "markdown",
   "metadata": {},
   "source": [
    "Given the initial data isn't that interesting with respect to condition, I wonder how well the GCMS data can predict some new data. \n",
    "\n",
    "There were additional samples that I didn't include in my initial analysis, because they all had n=1 replicates, and I think they were from a later experiment. \n",
    "\n",
    "Regardless, I know what conditions they were grown under, but how robust are these initial findings? Let's test it by building a classification model and applying to the unseen data.\n",
    "\n",
    "Let's keep it simple, and try to predict 'Long' or 'Else' UV photoperiod samples."
   ]
  },
  {
   "cell_type": "code",
   "execution_count": 39,
   "metadata": {},
   "outputs": [],
   "source": [
    "# set features\n",
    "y = df.loc[:,'PC1']\n",
    "X = df.loc[:,['Sample Weight (g)', 'Level 1', 'Level 2']]"
   ]
  },
  {
   "cell_type": "code",
   "execution_count": 40,
   "metadata": {},
   "outputs": [
    {
     "name": "stdout",
     "output_type": "stream",
     "text": [
      "['ILLUMITEX' 'Phillips' 'fluorescent']\n",
      "['control' 'long' 'short']\n"
     ]
    }
   ],
   "source": [
    "from sklearn.preprocessing import LabelEncoder, OrdinalEncoder\n",
    "le1 = LabelEncoder()\n",
    "le2 = LabelEncoder()\n",
    "\n",
    "X.loc[:,'Level 1'] = le1.fit_transform(X.loc[:,'Level 1'])\n",
    "X.loc[:,'Level 2'] = le2.fit_transform(X.loc[:,'Level 2'])\n",
    "\n",
    "print(le1.classes_)\n",
    "print(le2.classes_)\n",
    "\n",
    "X = X.values"
   ]
  },
  {
   "cell_type": "code",
   "execution_count": 41,
   "metadata": {},
   "outputs": [
    {
     "data": {
      "text/plain": [
       "array([[0.91, 1.  , 2.  ],\n",
       "       [1.06, 1.  , 2.  ],\n",
       "       [0.91, 1.  , 2.  ],\n",
       "       [1.28, 1.  , 1.  ],\n",
       "       [1.07, 1.  , 1.  ],\n",
       "       [1.12, 1.  , 1.  ],\n",
       "       [0.9 , 1.  , 0.  ],\n",
       "       [1.2 , 1.  , 0.  ],\n",
       "       [0.9 , 1.  , 0.  ],\n",
       "       [1.2 , 0.  , 1.  ],\n",
       "       [1.  , 0.  , 1.  ],\n",
       "       [1.11, 0.  , 1.  ],\n",
       "       [1.28, 0.  , 0.  ],\n",
       "       [0.98, 0.  , 0.  ],\n",
       "       [1.05, 0.  , 0.  ],\n",
       "       [1.1 , 2.  , 2.  ],\n",
       "       [1.15, 2.  , 2.  ],\n",
       "       [1.1 , 2.  , 2.  ],\n",
       "       [1.14, 2.  , 1.  ],\n",
       "       [1.  , 2.  , 1.  ],\n",
       "       [1.  , 2.  , 1.  ],\n",
       "       [1.05, 2.  , 0.  ],\n",
       "       [1.18, 2.  , 0.  ],\n",
       "       [0.95, 2.  , 0.  ]])"
      ]
     },
     "execution_count": 41,
     "metadata": {},
     "output_type": "execute_result"
    }
   ],
   "source": [
    "X"
   ]
  },
  {
   "cell_type": "code",
   "execution_count": 45,
   "metadata": {},
   "outputs": [
    {
     "data": {
      "text/plain": [
       "0    -5.530548\n",
       "1    -3.682842\n",
       "2    -1.464430\n",
       "3     0.567219\n",
       "4     1.452608\n",
       "5     2.122332\n",
       "6    -0.385649\n",
       "7     0.449845\n",
       "8     4.914135\n",
       "9     6.446043\n",
       "10    9.858527\n",
       "11    7.600038\n",
       "12   -3.684316\n",
       "13   -3.700329\n",
       "14   -1.818322\n",
       "15   -6.103025\n",
       "16   -5.520448\n",
       "17   -5.205587\n",
       "18    2.362317\n",
       "19    2.592824\n",
       "20    5.071278\n",
       "21   -3.912518\n",
       "22   -2.497306\n",
       "23    0.068155\n",
       "Name: PC1, dtype: float64"
      ]
     },
     "execution_count": 45,
     "metadata": {},
     "output_type": "execute_result"
    }
   ],
   "source": [
    "y"
   ]
  },
  {
   "cell_type": "markdown",
   "metadata": {},
   "source": [
    "Data is ready, let's model!"
   ]
  },
  {
   "cell_type": "code",
   "execution_count": 43,
   "metadata": {},
   "outputs": [
    {
     "data": {
      "text/plain": [
       "LinearRegression(copy_X=True, fit_intercept=True, n_jobs=None,\n",
       "         normalize=False)"
      ]
     },
     "execution_count": 43,
     "metadata": {},
     "output_type": "execute_result"
    }
   ],
   "source": [
    "from sklearn.linear_model import LinearRegression\n",
    "lr = LinearRegression()\n",
    "lr.fit(X, y)"
   ]
  },
  {
   "cell_type": "code",
   "execution_count": 44,
   "metadata": {},
   "outputs": [
    {
     "data": {
      "text/plain": [
       "array([-3.19856706, -1.76162776, -0.76382919])"
      ]
     },
     "execution_count": 44,
     "metadata": {},
     "output_type": "execute_result"
    }
   ],
   "source": [
    "lr.coef_"
   ]
  },
  {
   "cell_type": "markdown",
   "metadata": {},
   "source": []
  },
  {
   "cell_type": "markdown",
   "metadata": {},
   "source": [
    "## Results"
   ]
  },
  {
   "cell_type": "markdown",
   "metadata": {},
   "source": [
    "## Conclusions and Next Steps"
   ]
  },
  {
   "cell_type": "code",
   "execution_count": null,
   "metadata": {},
   "outputs": [],
   "source": []
  }
 ],
 "metadata": {
  "kernelspec": {
   "display_name": "Python 3",
   "language": "python",
   "name": "python3"
  },
  "language_info": {
   "codemirror_mode": {
    "name": "ipython",
    "version": 3
   },
   "file_extension": ".py",
   "mimetype": "text/x-python",
   "name": "python",
   "nbconvert_exporter": "python",
   "pygments_lexer": "ipython3",
   "version": "3.6.8"
  },
  "toc": {
   "base_numbering": 1,
   "nav_menu": {},
   "number_sections": true,
   "sideBar": true,
   "skip_h1_title": true,
   "title_cell": "Table of Contents",
   "title_sidebar": "Contents",
   "toc_cell": false,
   "toc_position": {},
   "toc_section_display": true,
   "toc_window_display": false
  },
  "varInspector": {
   "cols": {
    "lenName": 16,
    "lenType": 16,
    "lenVar": 40
   },
   "kernels_config": {
    "python": {
     "delete_cmd_postfix": "",
     "delete_cmd_prefix": "del ",
     "library": "var_list.py",
     "varRefreshCmd": "print(var_dic_list())"
    },
    "r": {
     "delete_cmd_postfix": ") ",
     "delete_cmd_prefix": "rm(",
     "library": "var_list.r",
     "varRefreshCmd": "cat(var_dic_list()) "
    }
   },
   "types_to_exclude": [
    "module",
    "function",
    "builtin_function_or_method",
    "instance",
    "_Feature"
   ],
   "window_display": false
  }
 },
 "nbformat": 4,
 "nbformat_minor": 2
}
